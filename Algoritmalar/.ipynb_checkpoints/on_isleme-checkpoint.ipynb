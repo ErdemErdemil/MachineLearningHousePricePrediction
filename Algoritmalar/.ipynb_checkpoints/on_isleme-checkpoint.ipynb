{
 "cells": [
  {
   "cell_type": "code",
   "execution_count": null,
   "id": "93d9d790",
   "metadata": {},
   "outputs": [],
   "source": [
    "import pandas as pd\n",
    "from sklearn.preprocessing import LabelEncoder"
   ]
  },
  {
   "cell_type": "code",
   "execution_count": null,
   "id": "d25b887f",
   "metadata": {},
   "outputs": [],
   "source": [
    "excel_file_path = r\"C:\\Users\\erdem\\Erdem_Güven_Erdemil\\Algoritmalar\\X_Emlak_Verileri.xlsx\"\n",
    "df = pd.read_excel(r\"C:\\Users\\erdem\\Erdem_Güven_Erdemil\\Algoritmalar\\X_Emlak_Verileri.xlsx\")"
   ]
  },
  {
   "cell_type": "code",
   "execution_count": null,
   "id": "f88cc187",
   "metadata": {},
   "outputs": [],
   "source": [
    "df.columns = df.columns.str.replace(' ', '_')"
   ]
  },
  {
   "cell_type": "code",
   "execution_count": null,
   "id": "7f0902ef",
   "metadata": {},
   "outputs": [],
   "source": [
    "df.columns = df.columns.str.lower()"
   ]
  },
  {
   "cell_type": "code",
   "execution_count": null,
   "id": "2a668168",
   "metadata": {},
   "outputs": [],
   "source": [
    "df.columns = df.columns.str.replace('ı', 'i')\n",
    "df.columns = df.columns.str.replace('ğ', 'g')\n",
    "df.columns = df.columns.str.replace('ü', 'u')\n",
    "df.columns = df.columns.str.replace('ö', 'o')\n",
    "df.columns = df.columns.str.replace('ç', 'c')\n",
    "df.columns = df.columns.str.replace('ş', 's')"
   ]
  },
  {
   "cell_type": "code",
   "execution_count": null,
   "id": "4b25b89e",
   "metadata": {},
   "outputs": [],
   "source": [
    "df['oda_sayisi'] = df['oda_sayisi'].replace({\"1 Oda\": \"1+0\", \"Stüdyo\": \"1+0\"})\n",
    "df['oda_sayisi'] = df['oda_sayisi'].replace({\"2.5+1\": \"3+0\"})\n",
    "df['oda_sayisi'] = df['oda_sayisi'].replace({\" \":\"2+0\" })"
   ]
  },
  {
   "cell_type": "code",
   "execution_count": null,
   "id": "905c1033",
   "metadata": {},
   "outputs": [],
   "source": [
    "df.to_excel(\"X_Emlak_Verileri.xlsx\", index=False)"
   ]
  },
  {
   "cell_type": "code",
   "execution_count": null,
   "id": "d407b184",
   "metadata": {},
   "outputs": [],
   "source": [
    "excel_filepath = r\"C:\\Users\\erdem\\Erdem_Güven_Erdemil\\Algoritmalar\\X_Emlak_Verileri.xlsx\"\n",
    "df = pd.read_excel(excel_file_path)\n",
    "\n",
    "def oda_sayisi_donusumu(oda_sayisi):\n",
    "\n",
    "    if pd.isna(oda_sayisi):\n",
    "        return oda_sayisi\n",
    "    \n",
    "    elif not isinstance(oda_sayisi, str):\n",
    "        return None\n",
    "    \n",
    "    else:\n",
    "        try:\n",
    "            \n",
    "            sayilar = [float(sayi) for sayi in oda_sayisi.split('+')]\n",
    "            return sum(sayilar)\n",
    "        except ValueError:\n",
    "            \n",
    "            return None\n",
    "\n",
    "\n",
    "df['oda_sayisi'] = df['oda_sayisi'].apply(oda_sayisi_donusumu)\n",
    "\n",
    "df.to_excel(r\"C:\\Users\\erdem\\Erdem_Güven_Erdemil\\algoritmalar\\X_Emlak_Verileri.xlsx\", index=False)"
   ]
  },
  {
   "cell_type": "code",
   "execution_count": null,
   "id": "54c9c6d3",
   "metadata": {},
   "outputs": [],
   "source": [
    "excel_file_path = r\"C:\\Users\\erdem\\Erdem_Güven_Erdemil\\algoritmalar\\X_Emlak_Verileri.xlsx\"\n",
    "df = pd.read_excel(excel_file_path)\n",
    "\n",
    "\n",
    "non_numeric_columns = df.select_dtypes(exclude='number').columns\n",
    "\n",
    "\n",
    "for column in non_numeric_columns:\n",
    "    df[column].replace('Bilinmiyor', None, inplace=True)\n",
    "    if df[column].dtype != 'O':  \n",
    "        df[column].fillna(df[column].mean(), inplace=True)\n",
    "        df[column] = df[column].astype(int)  \n",
    "    else:\n",
    "        df[column].fillna(df[column].mode()[0], inplace=True)\n",
    "\n",
    "\n",
    "df['oda_sayisi'].replace('Yok', None, inplace=True)\n",
    "\n",
    "\n",
    "df['oda_sayisi'] = pd.to_numeric(df['oda_sayisi'], errors='coerce')\n",
    "\n",
    "\n",
    "df['oda_sayisi'].fillna(df['oda_sayisi'].mean(), inplace=True)\n",
    "df['fiyat'].fillna(df['fiyat'].mean(), inplace=True)\n",
    "\n",
    "\n",
    "df.to_excel(r\"C:\\Users\\erdem\\Erdem_Güven_Erdemil\\Algoritmalar\\X_Emlak_Verileri.xlsx\", index=False)"
   ]
  },
  {
   "cell_type": "code",
   "execution_count": null,
   "id": "5a1f087c",
   "metadata": {},
   "outputs": [],
   "source": [
    "excel_file_path = r\"C:\\Users\\erdem\\Erdem_Güven_Erdemil\\Algoritmalar\\X_Emlak_Verileri.xlsx\"\n",
    "df = pd.read_excel(excel_file_path)\n",
    "\n",
    "df.drop(\"emlak_url\", axis= 1 ,inplace = True )\n",
    "df.drop(\"i̇lan_numarasi\", axis= 1 ,inplace = True )\n",
    "df.drop(\"i̇lan_guncelleme_tarihi\", axis = 1 , inplace = True)\n",
    "df.drop(\"kategori\", axis= 1 ,inplace = True )\n",
    "df.drop(\"tuvalet_sayisi\", axis= 1 ,inplace = True )"
   ]
  },
  {
   "cell_type": "code",
   "execution_count": null,
   "id": "1da523df",
   "metadata": {},
   "outputs": [],
   "source": [
    "df.to_excel(r\"C:\\Users\\erdem\\Erdem_Güven_Erdemil\\Algoritmalar\\X_Emlak_Verileri.xlsx\", index=False)"
   ]
  },
  {
   "cell_type": "code",
   "execution_count": null,
   "id": "f3f6f79b",
   "metadata": {},
   "outputs": [],
   "source": [
    "df['fiyat'] = df['fiyat'].replace({\"2912621,97637795\":\"2912621\" })"
   ]
  },
  {
   "cell_type": "code",
   "execution_count": null,
   "id": "7efab1ef",
   "metadata": {},
   "outputs": [],
   "source": [
    "df.to_excel(r\"C:\\Users\\erdem\\Erdem_Güven_Erdemil\\Algoritmalar\\X_Emlak_Verileri.xlsx\", index=False)"
   ]
  },
  {
   "cell_type": "code",
   "execution_count": null,
   "id": "d565e7e3",
   "metadata": {},
   "outputs": [],
   "source": [
    "df.loc[df.bulundugu_kat == \"Yüksek Giriş\" , \"bulundugu_kat\"] = \"1.Kat\"\n",
    "df.loc[df.bulundugu_kat == \"Düz Giriş (Zemin)\" , \"bulundugu_kat\"] = \"1.Kat\"\n",
    "df.loc[df.bulundugu_kat == \"Bahçe Katı\" , \"bulundugu_kat\"] = \"1.Kat\"\n",
    "df.loc[df.bulundugu_kat == \"Bahçe Dublex\" , \"bulundugu_kat\"] = \"1.Kat\"\n",
    "df.loc[df.bulundugu_kat == \"Bodrum Kat\" , \"bulundugu_kat\"] = \"1.Kat\""
   ]
  },
  {
   "cell_type": "code",
   "execution_count": null,
   "id": "e1ec5e93",
   "metadata": {},
   "outputs": [],
   "source": [
    "df.to_excel(r\"C:\\Users\\erdem\\Erdem_Güven_Erdemil\\Algoritmalar\\X_Emlak_Verileri.xlsx\", index=False)"
   ]
  },
  {
   "cell_type": "code",
   "execution_count": null,
   "id": "6cbc8a7a",
   "metadata": {},
   "outputs": [],
   "source": [
    "df['oda_sayisi'] = df['oda_sayisi'].replace({\"3,30030487804878\":\"3\" })\n",
    "df.loc[df.bulundugu_kat == \"Villa Tipi\" , \"bulundugu_kat\"] = \"1.Kat\"\n",
    "df.loc[df.bulundugu_kat == \"Çatı Dubleks\" , \"bulundugu_kat\"] = \"3.Kat\"\n",
    "df.loc[df.bulundugu_kat == \"Kot 1 (-1).Kat\" , \"bulundugu_kat\"] = \"1.Kat\"\n",
    "df.loc[df.bulundugu_kat == \"Çatı Katı\" , \"bulundugu_kat\"] = \"3.Kat\""
   ]
  },
  {
   "cell_type": "code",
   "execution_count": null,
   "id": "82755b09",
   "metadata": {},
   "outputs": [],
   "source": [
    "df.to_excel(r\"C:\\Users\\erdem\\Erdem_Güven_Erdemil\\Algoritmalar\\X_Emlak_Verileri.xlsx\", index=False)"
   ]
  },
  {
   "cell_type": "code",
   "execution_count": null,
   "id": "0e657e31",
   "metadata": {},
   "outputs": [],
   "source": [
    "df['oda_sayisi'] = df['oda_sayisi'].round()"
   ]
  },
  {
   "cell_type": "code",
   "execution_count": null,
   "id": "09b00e21",
   "metadata": {},
   "outputs": [],
   "source": [
    "df.to_excel(r\"C:\\Users\\erdem\\Erdem_Güven_Erdemil\\Algoritmalar\\X_Emlak_Verileri.xlsx\", index=False)"
   ]
  },
  {
   "cell_type": "code",
   "execution_count": null,
   "id": "f23f08d2",
   "metadata": {},
   "outputs": [],
   "source": [
    "df.loc[df.isitma_tipi == \"Kombi Doğalgaz\" ,       \"isitma_tipi\"] = \"Doğalgaz\"\n",
    "df.loc[df.isitma_tipi == \"Merkezi (Pay Ölçer)\" ,  \"isitma_tipi\"] = \"Doğalgaz\"\n",
    "df.loc[df.isitma_tipi == \"Yerden Isıtma\" ,        \"isitma_tipi\"] = \"Doğalgaz\"\n",
    "df.loc[df.isitma_tipi == \"Merkezi Doğalgaz\" ,     \"isitma_tipi\"] = \"Doğalgaz\"\n",
    "df.loc[df.isitma_tipi == \"Doğalgaz Sobalı\" ,      \"isitma_tipi\"] = \"Doğalgaz\"\n",
    "df.loc[df.isitma_tipi == \"Güneş Enerjisi\" ,       \"isitma_tipi\"] = \"Diğer\"\n",
    "df.loc[df.isitma_tipi == \"Sobalı\" ,               \"isitma_tipi\"] = \"Diğer\"\n",
    "df.loc[df.isitma_tipi == \"Kat Kaloriferi\" ,       \"isitma_tipi\"] = \"Diğer\"\n",
    "df.loc[df.isitma_tipi == \"Merkezi Kömür\" ,        \"isitma_tipi\"] = \"Diğer\""
   ]
  },
  {
   "cell_type": "code",
   "execution_count": null,
   "id": "14e091c7",
   "metadata": {},
   "outputs": [],
   "source": [
    "df.to_excel(r\"C:\\Users\\erdem\\Erdem_Güven_Erdemil\\Algoritmalar\\X_Emlak_Verileri.xlsx\", index=False)"
   ]
  },
  {
   "cell_type": "code",
   "execution_count": null,
   "id": "6e1b4011",
   "metadata": {},
   "outputs": [],
   "source": [
    "df['fiyat'] = df['fiyat'].round()"
   ]
  },
  {
   "cell_type": "code",
   "execution_count": null,
   "id": "5f38825c",
   "metadata": {},
   "outputs": [],
   "source": [
    "df.to_excel(r\"C:\\Users\\erdem\\Erdem_Güven_Erdemil\\Algoritmalar\\X_Emlak_Verileri.xlsx\", index=False)"
   ]
  },
  {
   "cell_type": "code",
   "execution_count": null,
   "id": "cf9481dc",
   "metadata": {},
   "outputs": [],
   "source": [
    "df.loc[df.banyo_sayisi == \"Yok\" , \"banyo_sayisi\"] = \"0\""
   ]
  },
  {
   "cell_type": "code",
   "execution_count": null,
   "id": "1e59f493",
   "metadata": {},
   "outputs": [],
   "source": [
    "df.to_excel(r\"C:\\Users\\erdem\\Erdem_Güven_Erdemil\\Algoritmalar\\X_Emlak_Verileri.xlsx\", index=False)"
   ]
  },
  {
   "cell_type": "code",
   "execution_count": null,
   "id": "b76c95d4",
   "metadata": {},
   "outputs": [],
   "source": [
    "df.loc[df.yapi_durumu == \"Yapım Aşamasında\" , \"yapi_durumu\"] = \"Sıfır\""
   ]
  },
  {
   "cell_type": "code",
   "execution_count": null,
   "id": "ffdc6d0e",
   "metadata": {},
   "outputs": [],
   "source": [
    "df.to_excel(r\"C:\\Users\\erdem\\Erdem_Güven_Erdemil\\Algoritmalar\\X_Emlak_Verileri.xlsx\", index=False)"
   ]
  },
  {
   "cell_type": "code",
   "execution_count": null,
   "id": "ea3926d5",
   "metadata": {},
   "outputs": [],
   "source": [
    "df.loc[df.bulundugu_kat == \"1.Kat\" ,       \"bulundugu_kat\"] = \"1\"\n",
    "df.loc[df.bulundugu_kat == \"2.Kat\" ,       \"bulundugu_kat\"] = \"2\"\n",
    "df.loc[df.bulundugu_kat == \"3.Kat\" ,       \"bulundugu_kat\"] = \"3\"\n",
    "df.loc[df.bulundugu_kat == \"4.Kat\" ,       \"bulundugu_kat\"] = \"4\"\n",
    "df.loc[df.bulundugu_kat == \"5.Kat\" ,       \"bulundugu_kat\"] = \"5\"\n",
    "df.loc[df.bulundugu_kat == \"6.Kat\" ,       \"bulundugu_kat\"] = \"6\"\n",
    "df.loc[df.bulundugu_kat == \"7.Kat\" ,       \"bulundugu_kat\"] = \"7\"\n",
    "df.loc[df.bulundugu_kat == \"8.Kat\" ,       \"bulundugu_kat\"] = \"9\"\n",
    "df.loc[df.bulundugu_kat == \"9.Kat\" ,       \"bulundugu_kat\"] = \"9\"\n",
    "df.loc[df.bulundugu_kat == \"10.Kat\" ,       \"bulundugu_kat\"] = \"10\"\n",
    "df.loc[df.bulundugu_kat == \"11.Kat\" ,       \"bulundugu_kat\"] = \"11\"\n",
    "df.loc[df.bulundugu_kat == \"12.Kat\" ,       \"bulundugu_kat\"] = \"12\"\n",
    "df.loc[df.bulundugu_kat == \"13.Kat\" ,       \"bulundugu_kat\"] = \"13\""
   ]
  },
  {
   "cell_type": "code",
   "execution_count": null,
   "id": "c4d41be2",
   "metadata": {},
   "outputs": [],
   "source": [
    "df.to_excel(r\"C:\\Users\\erdem\\Erdem_Güven_Erdemil\\Algoritmalar\\X_Emlak_Verileri.xlsx\", index=False)"
   ]
  },
  {
   "cell_type": "code",
   "execution_count": null,
   "id": "6d68336a",
   "metadata": {},
   "outputs": [],
   "source": [
    "#ENCODING"
   ]
  },
  {
   "cell_type": "code",
   "execution_count": null,
   "id": "5eb107cf",
   "metadata": {},
   "outputs": [],
   "source": [
    "le = LabelEncoder()"
   ]
  },
  {
   "cell_type": "code",
   "execution_count": null,
   "id": "701ebd36",
   "metadata": {},
   "outputs": [],
   "source": [
    "le.fit_transform(df[\"isitma_tipi\"])"
   ]
  },
  {
   "cell_type": "code",
   "execution_count": null,
   "id": "44d52cd1",
   "metadata": {},
   "outputs": [],
   "source": [
    "df[\"isitma_tipi\"] = le.fit_transform(df[\"isitma_tipi\"])"
   ]
  },
  {
   "cell_type": "code",
   "execution_count": null,
   "id": "0aed88a0",
   "metadata": {},
   "outputs": [],
   "source": [
    "le.fit_transform(df[\"krediye_uygunluk\"])"
   ]
  },
  {
   "cell_type": "code",
   "execution_count": null,
   "id": "ba7e49ec",
   "metadata": {},
   "outputs": [],
   "source": [
    "df[\"krediye_uygunluk\"] = le.fit_transform(df[\"krediye_uygunluk\"])"
   ]
  },
  {
   "cell_type": "code",
   "execution_count": null,
   "id": "af014a5c",
   "metadata": {},
   "outputs": [],
   "source": [
    "le.fit_transform(df[\"yapi_durumu\"])"
   ]
  },
  {
   "cell_type": "code",
   "execution_count": null,
   "id": "186384c7",
   "metadata": {},
   "outputs": [],
   "source": [
    "df[\"yapi_durumu\"] = le.fit_transform(df[\"yapi_durumu\"])"
   ]
  },
  {
   "cell_type": "code",
   "execution_count": null,
   "id": "2f494d76",
   "metadata": {},
   "outputs": [],
   "source": [
    "le.fit_transform(df[\"site_i̇cerisinde\"])"
   ]
  },
  {
   "cell_type": "code",
   "execution_count": null,
   "id": "691e9869",
   "metadata": {},
   "outputs": [],
   "source": [
    "df[\"site_i̇cerisinde\"] = le.fit_transform(df[\"site_i̇cerisinde\"])"
   ]
  },
  {
   "cell_type": "code",
   "execution_count": null,
   "id": "7988e14e",
   "metadata": {},
   "outputs": [],
   "source": [
    "le.fit_transform(df[\"bulundugu_kat\"])"
   ]
  },
  {
   "cell_type": "code",
   "execution_count": null,
   "id": "b3388f3f",
   "metadata": {},
   "outputs": [],
   "source": [
    "df[\"bulundugu_kat\"] = le.fit_transform(df[\"bulundugu_kat\"])"
   ]
  },
  {
   "cell_type": "code",
   "execution_count": null,
   "id": "3e00c2f6",
   "metadata": {},
   "outputs": [],
   "source": [
    "df.to_excel(r\"C:\\Users\\erdem\\Erdem_Güven_Erdemil\\Algoritmalar\\X_Emlak_Verileri_Onislenmis.xlsx\", index=False)"
   ]
  },
  {
   "cell_type": "code",
   "execution_count": null,
   "id": "5b4605a7",
   "metadata": {},
   "outputs": [],
   "source": [
    "#ALGORİTMALAR"
   ]
  },
  {
   "cell_type": "code",
   "execution_count": null,
   "id": "e09d63f8",
   "metadata": {},
   "outputs": [],
   "source": [
    "import pandas as pd\n",
    "from sklearn.model_selection import train_test_split\n",
    "from sklearn.ensemble import RandomForestRegressor, GradientBoostingRegressor\n",
    "from sklearn.linear_model import LinearRegression, Ridge, Lasso\n",
    "from sklearn.svm import SVR\n",
    "from sklearn.neighbors import KNeighborsRegressor\n",
    "from sklearn.metrics import mean_squared_error, r2_score\n",
    "from sklearn.preprocessing import MinMaxScaler\n",
    "\n",
    "\n",
    "excel_file_path = r\"C:\\Users\\erdem\\Erdem_Güven_Erdemil\\Algoritmalar\\X_Emlak_Verileri_Onislenmis.xlsx\"\n",
    "df = pd.read_excel(excel_file_path)\n",
    "\n",
    "\n",
    "X = df.drop(\"fiyat\", axis=1)\n",
    "y = df[\"fiyat\"]\n",
    "\n",
    "\n",
    "scaler = MinMaxScaler()\n",
    "X_scaled = scaler.fit_transform(X)\n",
    "\n",
    "X_train, X_test, y_train, y_test = train_test_split(X_scaled, y, test_size=0.25, random_state=42)\n",
    "\n",
    "models = [\n",
    "    (\"Random Forest\", RandomForestRegressor(random_state=42)),\n",
    "    (\"Gradient Boosting\", GradientBoostingRegressor(random_state=42)),\n",
    "    (\"Linear Regression\", LinearRegression()),\n",
    "    (\"Ridge\", Ridge()),\n",
    "    (\"Lasso\", Lasso()),\n",
    "    (\"SVR\", SVR()),\n",
    "    (\"KNN\", KNeighborsRegressor())\n",
    "]\n",
    "\n",
    "\n",
    "best_model_name = None\n",
    "best_model_r2 = -float('inf')\n",
    "best_model_mse = float('inf')\n",
    "\n",
    "for model_name, model in models:\n",
    "    \n",
    "    model.fit(X_train, y_train)   \n",
    "    \n",
    "    y_pred = model.predict(X_test)\n",
    "    \n",
    "  \n",
    "    r2 = r2_score(y_test, y_pred)\n",
    "    mse = mean_squared_error(y_test, y_pred)\n",
    "    \n",
    "    print(f\"{model_name} Modeli:\")\n",
    "    print(f\"R-squared (R²) Score: {r2}\")\n",
    "    print(f\"Mean Squared Error (MSE): {mse}\")\n",
    "    print(\"=\"*50)\n",
    "    \n",
    "    if r2 > best_model_r2 and mse < best_model_mse:\n",
    "        best_model_r2 = r2\n",
    "        best_model_name = model_name\n",
    "        best_model_mse = mse\n",
    "        \n",
    "print(f\"En iyi model: {best_model_name} (R-squared Score: {best_model_r2}, MSE: {best_model_mse})\")"
   ]
  },
  {
   "cell_type": "code",
   "execution_count": null,
   "id": "89df9cd5",
   "metadata": {},
   "outputs": [],
   "source": []
  }
 ],
 "metadata": {
  "kernelspec": {
   "display_name": "Python 3 (ipykernel)",
   "language": "python",
   "name": "python3"
  },
  "language_info": {
   "codemirror_mode": {
    "name": "ipython",
    "version": 3
   },
   "file_extension": ".py",
   "mimetype": "text/x-python",
   "name": "python",
   "nbconvert_exporter": "python",
   "pygments_lexer": "ipython3",
   "version": "3.11.5"
  }
 },
 "nbformat": 4,
 "nbformat_minor": 5
}
