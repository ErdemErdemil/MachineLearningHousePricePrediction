{
 "cells": [
  {
   "cell_type": "code",
   "execution_count": 8,
   "id": "1496affd",
   "metadata": {},
   "outputs": [
    {
     "data": {
      "text/plain": [
       "['x_trained_columns.pkl']"
      ]
     },
     "execution_count": 8,
     "metadata": {},
     "output_type": "execute_result"
    }
   ],
   "source": [
    "import pandas as pd\n",
    "from sklearn.ensemble import GradientBoostingRegressor\n",
    "import joblib\n",
    "\n",
    "excel_filepath = r\"C:\\Users\\erdem\\Erdem_Güven_Erdemil\\Servisleme\\X_Emlak_Verileri_Onislenmis.xlsx\"\n",
    "df = pd.read_excel(excel_filepath)\n",
    "\n",
    "df.dropna(inplace=True)\n",
    "\n",
    "\n",
    "X = df.drop(\"fiyat\", axis=1)\n",
    "y = df[\"fiyat\"]\n",
    "y = y.fillna(y.mean())\n",
    "\n",
    "model = GradientBoostingRegressor()  \n",
    "model.fit(X, y)\n",
    "\n",
    "trained_columns = X.columns.tolist()\n",
    "\n",
    "model_filename = \"x_test_model.pkl\"\n",
    "joblib.dump(model, model_filename)\n",
    "joblib.dump(trained_columns, 'x_trained_columns.pkl')"
   ]
  },
  {
   "cell_type": "code",
   "execution_count": 11,
   "id": "2e0d36fe",
   "metadata": {},
   "outputs": [],
   "source": [
    "import streamlit as st\n",
    "import pandas as pd\n",
    "from sklearn.ensemble import GradientBoostingRegressor\n",
    "import joblib\n",
    "\n",
    "model = joblib.load(\"C:\\\\Users\\\\erdem\\\\Erdem_Güven_Erdemil\\\\Servisleme\\\\x_test_model.pkl\")\n",
    "\n",
    "trained_columns = joblib.load(\"C:\\\\Users\\\\erdem\\\\Erdem_Güven_Erdemil\\\\Servisleme\\\\x_test_model.pkl\")\n",
    "\n",
    "st.sidebar.header(\"Emlak Tahmini Uygulaması\")\n",
    "features = {}\n",
    "for column in trained_columns:\n",
    "    features[column] = st.sidebar.number_input(f\"Enter {column}\", value=0)\n",
    "\n",
    "input_data = pd.DataFrame([features])\n",
    "prediction = model.predict(input_data)[0]\n",
    "\n",
    "st.write(f\"**Tahmini Fiyat:** {prediction:.2f} TL\")"
   ]
  },
  {
   "cell_type": "code",
   "execution_count": null,
   "id": "cc3f9bb5",
   "metadata": {},
   "outputs": [],
   "source": []
  }
 ],
 "metadata": {
  "kernelspec": {
   "display_name": "Python 3 (ipykernel)",
   "language": "python",
   "name": "python3"
  },
  "language_info": {
   "codemirror_mode": {
    "name": "ipython",
    "version": 3
   },
   "file_extension": ".py",
   "mimetype": "text/x-python",
   "name": "python",
   "nbconvert_exporter": "python",
   "pygments_lexer": "ipython3",
   "version": "3.11.5"
  }
 },
 "nbformat": 4,
 "nbformat_minor": 5
}
